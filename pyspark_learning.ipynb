{
  "cells": [
    {
      "cell_type": "markdown",
      "metadata": {
        "id": "view-in-github",
        "colab_type": "text"
      },
      "source": [
        "<a href=\"https://colab.research.google.com/github/mrabhishekmore/colab_data/blob/main/pyspark_learning.ipynb\" target=\"_parent\"><img src=\"https://colab.research.google.com/assets/colab-badge.svg\" alt=\"Open In Colab\"/></a>"
      ]
    },
    {
      "cell_type": "code",
      "source": [
        "!pip install -q pyspark==3.4.1 spark-nlp==5.1.2"
      ],
      "metadata": {
        "id": "EuF5euWzfpH6",
        "outputId": "238b9fce-118d-4234-a748-8b378a0b5377",
        "colab": {
          "base_uri": "https://localhost:8080/"
        }
      },
      "execution_count": 1,
      "outputs": [
        {
          "output_type": "stream",
          "name": "stdout",
          "text": [
            "\u001b[2K     \u001b[90m━━━━━━━━━━━━━━━━━━━━━━━━━━━━━━━━━━━━━━━━\u001b[0m \u001b[32m310.8/310.8 MB\u001b[0m \u001b[31m3.6 MB/s\u001b[0m eta \u001b[36m0:00:00\u001b[0m\n",
            "\u001b[?25h  Preparing metadata (setup.py) ... \u001b[?25l\u001b[?25hdone\n",
            "\u001b[2K     \u001b[90m━━━━━━━━━━━━━━━━━━━━━━━━━━━━━━━━━━━━━━━━\u001b[0m \u001b[32m536.3/536.3 kB\u001b[0m \u001b[31m27.4 MB/s\u001b[0m eta \u001b[36m0:00:00\u001b[0m\n",
            "\u001b[?25h  Building wheel for pyspark (setup.py) ... \u001b[?25l\u001b[?25hdone\n"
          ]
        }
      ]
    },
    {
      "cell_type": "code",
      "source": [
        "from pyspark.sql import SparkSession\n",
        "\n",
        "# Create a SparkSession\n",
        "spark = SparkSession.builder \\\n",
        "    .appName(\"Get values as list\") \\\n",
        "    .getOrCreate()\n",
        "\n",
        "# Sample data\n",
        "data = [(\"John\", \"Math\"),\n",
        "        (\"Alice\", \"Physics\"),\n",
        "        (\"Bob\", \"Chemistry\")]\n",
        "\n",
        "# Create a DataFrame\n",
        "df = spark.createDataFrame(data, [\"name\", \"sub\"])\n",
        "\n",
        "# Collect the values of the \"sub\" column into a Python list\n",
        "sub_list = df.select(\"sub\").rdd.flatMap(lambda x: x).collect()\n",
        "\n",
        "\n",
        "# Show the list\n",
        "print(sub_list)\n"
      ],
      "metadata": {
        "id": "wtLo2iL_Plro",
        "outputId": "2ccb4c45-659c-4990-bb5b-93dcb44a0c2e",
        "colab": {
          "base_uri": "https://localhost:8080/"
        }
      },
      "execution_count": 18,
      "outputs": [
        {
          "output_type": "stream",
          "name": "stdout",
          "text": [
            "['Math', 'Physics', 'Chemistry']\n"
          ]
        }
      ]
    },
    {
      "cell_type": "code",
      "source": [
        "from pyspark.sql.functions import array, explode, expr, col, when, concat, coalesce\n",
        "# df = df.withColumn(\"joined\",concat(col(\"name\"),col(\"sub\")))\n",
        "\n",
        "# df.show()\n",
        "\n",
        "df.select(coalesce(df[\"sub\"],df[\"name\"])).show()"
      ],
      "metadata": {
        "id": "Xtd7MWMlepjA",
        "outputId": "68ab557e-fff2-422d-ffa8-4e629cba28ac",
        "colab": {
          "base_uri": "https://localhost:8080/"
        }
      },
      "execution_count": 17,
      "outputs": [
        {
          "output_type": "stream",
          "name": "stdout",
          "text": [
            "+-------------------+\n",
            "|coalesce(sub, name)|\n",
            "+-------------------+\n",
            "|               Math|\n",
            "|              Alice|\n",
            "|                Bob|\n",
            "+-------------------+\n",
            "\n"
          ]
        }
      ]
    },
    {
      "cell_type": "code",
      "source": [
        "from pyspark.sql import SparkSession\n",
        "from pyspark.sql.functions import array, explode, expr, col, when\n",
        "\n",
        "# Create a SparkSession\n",
        "spark = SparkSession.builder \\\n",
        "    .appName(\"Explode Columns\") \\\n",
        "    .getOrCreate()\n",
        "\n",
        "# Sample data\n",
        "data = [(\"John\", 70, 80, 90),\n",
        "        (\"Alice\", 75, 85, 95),\n",
        "        (\"Bob\", 80, 90, 85)]\n",
        "\n",
        "# Create a DataFrame\n",
        "df = spark.createDataFrame(data, [\"name\", \"sub1\", \"sub2\", \"sub3\"])\n",
        "\n",
        "print(\"Source df\")\n",
        "\n",
        "df.show()\n",
        "\n",
        "sub_cols = [\"sub1\", \"sub2\", \"sub3\"]\n",
        "# Collect sub1, sub2, and sub3 into an array column\n",
        "df = df.withColumn(\"subjects\", array(*sub_cols))\n",
        "\n",
        "# Explode the array column into separate rows\n",
        "result_df = df.select(\"name\", explode(\"subjects\").alias(\"score\"))\n",
        "\n",
        "result_df = result_df.withColumn(\"grade\", expr(\"CASE WHEN score > 80 THEN 'PASS' ELSE 'FAIL' END\"))\n",
        "\n",
        "result_df = result_df.withColumn(\"result\",when(result_df[\"score\"] > 80, \"pass\").otherwise(\"fail\"))\n",
        "\n",
        "# result_df = result_df.filter(col(\"grade\")==\"PASS\")\n",
        "# Show the result\n",
        "result_df.show()\n"
      ],
      "metadata": {
        "id": "cXLy3OeqOUgg",
        "outputId": "ddbaf468-52e7-43b1-8617-d61f84780cc5",
        "colab": {
          "base_uri": "https://localhost:8080/"
        }
      },
      "execution_count": 6,
      "outputs": [
        {
          "output_type": "stream",
          "name": "stdout",
          "text": [
            "Source df\n",
            "+-----+----+----+----+\n",
            "| name|sub1|sub2|sub3|\n",
            "+-----+----+----+----+\n",
            "| John|  70|  80|  90|\n",
            "|Alice|  75|  85|  95|\n",
            "|  Bob|  80|  90|  85|\n",
            "+-----+----+----+----+\n",
            "\n",
            "+-----+-----+-----+------+\n",
            "| name|score|grade|result|\n",
            "+-----+-----+-----+------+\n",
            "| John|   70| FAIL|  fail|\n",
            "| John|   80| FAIL|  fail|\n",
            "| John|   90| PASS|  pass|\n",
            "|Alice|   75| FAIL|  fail|\n",
            "|Alice|   85| PASS|  pass|\n",
            "|Alice|   95| PASS|  pass|\n",
            "|  Bob|   80| FAIL|  fail|\n",
            "|  Bob|   90| PASS|  pass|\n",
            "|  Bob|   85| PASS|  pass|\n",
            "+-----+-----+-----+------+\n",
            "\n"
          ]
        }
      ]
    },
    {
      "cell_type": "code",
      "source": [
        "sorted_df = result_df.sort(result_df.score.desc())\n",
        "sorted_df.show()"
      ],
      "metadata": {
        "id": "1Ew7wC88y41J",
        "outputId": "561da9e4-d71a-430e-a0ea-6251ccd708e0",
        "colab": {
          "base_uri": "https://localhost:8080/"
        }
      },
      "execution_count": 4,
      "outputs": [
        {
          "output_type": "stream",
          "name": "stdout",
          "text": [
            "+-----+-----+-----+\n",
            "| name|score|grade|\n",
            "+-----+-----+-----+\n",
            "|Alice|   95| PASS|\n",
            "| John|   90| PASS|\n",
            "|  Bob|   90| PASS|\n",
            "|Alice|   85| PASS|\n",
            "|  Bob|   85| PASS|\n",
            "| John|   80| FAIL|\n",
            "|  Bob|   80| FAIL|\n",
            "|Alice|   75| FAIL|\n",
            "| John|   70| FAIL|\n",
            "+-----+-----+-----+\n",
            "\n"
          ]
        }
      ]
    },
    {
      "cell_type": "code",
      "source": [
        "from pyspark.sql import SparkSession\n",
        "from pyspark.sql.functions import concat_ws, collect_list, count\n",
        "\n",
        "# Create a SparkSession\n",
        "spark = SparkSession.builder \\\n",
        "    .appName(\"Concatenate IDs by Name\") \\\n",
        "    .getOrCreate()\n",
        "\n",
        "# Sample data\n",
        "data = [(\"John\", 1),\n",
        "        (\"Alice\", 2),\n",
        "        (\"John\", 3),\n",
        "        (\"Bob\", 4),\n",
        "        (\"Alice\", 5)]\n",
        "\n",
        "# Create a DataFrame\n",
        "df = spark.createDataFrame(data, [\"name\", \"id\"])\n",
        "\n",
        "# Group by \"name\" and concatenate \"id\" with \"|\" delimiter\n",
        "result_df = df.groupBy(\"name\") \\\n",
        "              .agg(concat_ws(\"|\", collect_list(\"id\")).alias(\"concatenated_ids\"))\n",
        "\n",
        "count_df = df.groupBy(\"name\") \\\n",
        "              .agg(count(\"*\").alias(\"count\")\n",
        "\n",
        "# Show the result\n",
        "result_df.show()\n",
        "\n",
        "count_df.show()\n"
      ],
      "metadata": {
        "id": "T7Df9aoZMQZ8",
        "outputId": "9a8c5fd3-11cf-4c75-b75d-9a1c40cb476a",
        "colab": {
          "base_uri": "https://localhost:8080/"
        }
      },
      "execution_count": 6,
      "outputs": [
        {
          "output_type": "stream",
          "name": "stdout",
          "text": [
            "+-----+----------------+\n",
            "| name|concatenated_ids|\n",
            "+-----+----------------+\n",
            "| John|             1|3|\n",
            "|Alice|             2|5|\n",
            "|  Bob|               4|\n",
            "+-----+----------------+\n",
            "\n",
            "+-----+-----+\n",
            "| name|count|\n",
            "+-----+-----+\n",
            "| John|    2|\n",
            "|Alice|    2|\n",
            "|  Bob|    1|\n",
            "+-----+-----+\n",
            "\n"
          ]
        }
      ]
    },
    {
      "cell_type": "code",
      "source": [
        "from pyspark.sql import SparkSession\n",
        "from pyspark.sql import Row\n",
        "\n",
        "# Create a Spark session\n",
        "spark = SparkSession.builder.appName(\"example\").getOrCreate()\n",
        "\n",
        "# Dummy data\n",
        "data = [(\"card|spec|65\",),\n",
        "        (\"fam|tax|87\",)]\n",
        "\n",
        "# Create DataFrame\n",
        "df = spark.createDataFrame(data, [\"specialty\"])\n",
        "\n",
        "# Show the DataFrame\n",
        "df.show()"
      ],
      "metadata": {
        "id": "0_Bh0lr8gRcR",
        "outputId": "97e98a01-c502-4796-edb4-74c79148d7b3",
        "colab": {
          "base_uri": "https://localhost:8080/"
        }
      },
      "execution_count": null,
      "outputs": [
        {
          "output_type": "stream",
          "name": "stdout",
          "text": [
            "+------------+\n",
            "|   specialty|\n",
            "+------------+\n",
            "|card|spec|65|\n",
            "|  fam|tax|87|\n",
            "+------------+\n",
            "\n"
          ]
        }
      ]
    }
  ],
  "metadata": {
    "colab": {
      "name": "Welcome To Colaboratory",
      "provenance": [],
      "gpuType": "T4",
      "toc_visible": true,
      "include_colab_link": true
    },
    "kernelspec": {
      "display_name": "Python 3",
      "name": "python3"
    },
    "accelerator": "GPU"
  },
  "nbformat": 4,
  "nbformat_minor": 0
}